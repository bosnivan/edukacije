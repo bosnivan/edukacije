{
 "cells": [
  {
   "cell_type": "markdown",
   "metadata": {},
   "source": [
    "# 1. Komentari, brojevi, varijable i sl."
   ]
  },
  {
   "cell_type": "markdown",
   "metadata": {},
   "source": [
    "## Prije nego krenemo"
   ]
  },
  {
   "cell_type": "markdown",
   "metadata": {},
   "source": [
    "Naredba _import_ služi da uključivanje koda iz druge datoteke (modula), da bi ga koristili u našem programu. Primjerice:"
   ]
  },
  {
   "cell_type": "code",
   "execution_count": 1,
   "metadata": {
    "collapsed": true
   },
   "outputs": [],
   "source": [
    "import math"
   ]
  },
  {
   "cell_type": "markdown",
   "metadata": {},
   "source": [
    "Modul _math_ skup je matematičkih funkcija koje dolaze s Pythonom. Kasnije ćemo _import_ i module upoznati detaljnije."
   ]
  },
  {
   "cell_type": "markdown",
   "metadata": {},
   "source": [
    "Naredba _print_ služi za ispis nekog teksta."
   ]
  },
  {
   "cell_type": "code",
   "execution_count": 2,
   "metadata": {
    "collapsed": false
   },
   "outputs": [
    {
     "name": "stdout",
     "output_type": "stream",
     "text": [
      "Ovo je tekst koji će se ispisati\n"
     ]
    }
   ],
   "source": [
    "print(\"Ovo je tekst koji će se ispisati\")"
   ]
  },
  {
   "cell_type": "markdown",
   "metadata": {},
   "source": [
    "Kasnije ćemo _print_ upoznati detaljnije."
   ]
  },
  {
   "cell_type": "markdown",
   "metadata": {},
   "source": [
    "Funkcije su mali programi oblika:"
   ]
  },
  {
   "cell_type": "markdown",
   "metadata": {},
   "source": [
    "```python\n",
    "naziv_funkcije(parametar1, parametar2, ...)\n",
    "```"
   ]
  },
  {
   "cell_type": "markdown",
   "metadata": {},
   "source": [
    "Funkcija može biti i bez parametara:"
   ]
  },
  {
   "cell_type": "markdown",
   "metadata": {},
   "source": [
    "```python\n",
    "naziv_funkcije()\n",
    "```"
   ]
  },
  {
   "cell_type": "markdown",
   "metadata": {},
   "source": [
    "Funkciji pošaljemo 0 do N parametara, ona ih koristi za nekakav izračun i na kraju nam vrati rezultat. Primjerice, pošaljemo joj duljine stranica trokuta, a ona nam izračuna i vrati opseg trokuta. Kasnije ćemo funkcije upoznati detaljnije."
   ]
  },
  {
   "cell_type": "markdown",
   "metadata": {},
   "source": [
    "## Komentari"
   ]
  },
  {
   "cell_type": "markdown",
   "metadata": {},
   "source": [
    "Komentari služe za opis koda programa. Mogu se protezati kroz jedan ili više redaka. Za prve koristimo znak # (_hash_). Sve desno od njega je komentar."
   ]
  },
  {
   "cell_type": "code",
   "execution_count": 3,
   "metadata": {
    "collapsed": false
   },
   "outputs": [
    {
     "name": "stdout",
     "output_type": "stream",
     "text": [
      "Ovo nije komentar.\n"
     ]
    }
   ],
   "source": [
    "print(\"Ovo nije komentar.\") # Ovo je komentar."
   ]
  },
  {
   "cell_type": "markdown",
   "metadata": {},
   "source": [
    "Gornji redak pokazuje da komentar ne mora zauzeti cijeli redak. Komentar koji se proteže kroz više redaka započinje i završava s ''' (tri znaka navodnika). Primjerice:"
   ]
  },
  {
   "cell_type": "code",
   "execution_count": 4,
   "metadata": {
    "collapsed": false
   },
   "outputs": [
    {
     "data": {
      "text/plain": [
       "' Ovo je 1. redak komentara\\nOvo je 2. redak komentara\\nOvo je 3. redak komentara '"
      ]
     },
     "execution_count": 4,
     "metadata": {},
     "output_type": "execute_result"
    }
   ],
   "source": [
    "''' Ovo je 1. redak komentara\n",
    "Ovo je 2. redak komentara\n",
    "Ovo je 3. redak komentara '''"
   ]
  },
  {
   "cell_type": "markdown",
   "metadata": {},
   "source": [
    "Komentari se često koriste da se zakomentira dio koda za koji ne želimo da se izvrši. Primjer je u nastavku:"
   ]
  },
  {
   "cell_type": "code",
   "execution_count": 5,
   "metadata": {
    "collapsed": false
   },
   "outputs": [
    {
     "name": "stdout",
     "output_type": "stream",
     "text": [
      "Ovo će se ispisati.\n"
     ]
    }
   ],
   "source": [
    "print(\"Ovo će se ispisati.\")\n",
    "#print(\"Ovo se neće ispisati.\")"
   ]
  },
  {
   "cell_type": "markdown",
   "metadata": {},
   "source": [
    "Komentar može biti i kičast, poput ovoga:"
   ]
  },
  {
   "cell_type": "code",
   "execution_count": 6,
   "metadata": {
    "collapsed": true
   },
   "outputs": [],
   "source": [
    "############################\n",
    "# Fensi šmensi komentar :) #\n",
    "# Autor: Ivan Bosnić       #\n",
    "# Datum: 26. 8. 2017.      #\n",
    "############################"
   ]
  },
  {
   "cell_type": "markdown",
   "metadata": {},
   "source": [
    "## Varijable, literali, konstante"
   ]
  },
  {
   "cell_type": "markdown",
   "metadata": {},
   "source": [
    "Varijable su mjesta za pohranu vrijednosti. Njihov naziv sadrži slova, brojeve i znak \\_ te mora početi sa slovom ili \\_."
   ]
  },
  {
   "cell_type": "code",
   "execution_count": 7,
   "metadata": {
    "collapsed": true
   },
   "outputs": [],
   "source": [
    "ovo_je_dobar_naziv_varijable = \"Ovo je vrijednost varijable\"\n",
    "_ovo_je_isto_dobar_naziv = 3 # vrijednost ove varijable je broj 3\n",
    "# 34_ovo_nije_dobar_naziv, ovo+isto+nije+dobar+naziv, zato smo zakomentirani :)"
   ]
  },
  {
   "cell_type": "markdown",
   "metadata": {},
   "source": [
    "U Pythonu varijabla može mijenjati vrstu vrijednosti:"
   ]
  },
  {
   "cell_type": "code",
   "execution_count": 8,
   "metadata": {
    "collapsed": true
   },
   "outputs": [],
   "source": [
    "a = 1 # prvo sam broj\n",
    "a = \"Tekst\" # zatim sam tekst\n",
    "a = [1, 2, 3, 4] # i na kraju sam lista"
   ]
  },
  {
   "cell_type": "markdown",
   "metadata": {},
   "source": [
    "U nekim jezicima ovo nije moguće i mora se naglasiti koja vrsta će se spremati u varijablu. Ako nešto drugo probamo spremiti, javit će se greška."
   ]
  },
  {
   "cell_type": "markdown",
   "metadata": {},
   "source": [
    "Varijabli se može pridijeliti vrijednost druge varijable:"
   ]
  },
  {
   "cell_type": "code",
   "execution_count": 9,
   "metadata": {
    "collapsed": false
   },
   "outputs": [
    {
     "name": "stdout",
     "output_type": "stream",
     "text": [
      "2102\n"
     ]
    }
   ],
   "source": [
    "a = 2102\n",
    "b = a\n",
    "print(b)"
   ]
  },
  {
   "cell_type": "markdown",
   "metadata": {},
   "source": [
    "Može i ovako:"
   ]
  },
  {
   "cell_type": "code",
   "execution_count": 10,
   "metadata": {
    "collapsed": false
   },
   "outputs": [
    {
     "name": "stdout",
     "output_type": "stream",
     "text": [
      "106\n"
     ]
    }
   ],
   "source": [
    "a = 19\n",
    "b = 87\n",
    "c = a + b\n",
    "print(c)"
   ]
  },
  {
   "cell_type": "markdown",
   "metadata": {},
   "source": [
    "A može i ovako:"
   ]
  },
  {
   "cell_type": "code",
   "execution_count": 11,
   "metadata": {
    "collapsed": false
   },
   "outputs": [
    {
     "name": "stdout",
     "output_type": "stream",
     "text": [
      "106\n"
     ]
    }
   ],
   "source": [
    "a = 19\n",
    "b = a + 87 # 87 je ovdje literal, vrijednost koja se izravno koristi\n",
    "print(b)"
   ]
  },
  {
   "cell_type": "markdown",
   "metadata": {},
   "source": [
    "A može i ovako:"
   ]
  },
  {
   "cell_type": "code",
   "execution_count": 12,
   "metadata": {
    "collapsed": false
   },
   "outputs": [
    {
     "name": "stdout",
     "output_type": "stream",
     "text": [
      "20\n"
     ]
    }
   ],
   "source": [
    "a = 19\n",
    "a = a + 1 # uvećali smo vrijednost varijable za 1\n",
    "print(a)"
   ]
  },
  {
   "cell_type": "markdown",
   "metadata": {},
   "source": [
    "Gornji izraz možemo pisati i skraćeno:"
   ]
  },
  {
   "cell_type": "code",
   "execution_count": 13,
   "metadata": {
    "collapsed": false
   },
   "outputs": [
    {
     "name": "stdout",
     "output_type": "stream",
     "text": [
      "21\n"
     ]
    }
   ],
   "source": [
    "a += 1 # ovo je skraćeno za a = a + 1\n",
    "print(a)"
   ]
  },
  {
   "cell_type": "markdown",
   "metadata": {},
   "source": [
    "Konstante su \"varijable\" kojima se jednom dodijeli vrijednost i nakon toga se više ne mogu mijenjati. Python izravno ne podržava varijable, no dobro je znati za postoje. :)"
   ]
  },
  {
   "cell_type": "markdown",
   "metadata": {},
   "source": [
    "Više o varijablama:  \n",
    "https://www.tutorialspoint.com/python/python_variable_types.htm"
   ]
  },
  {
   "cell_type": "markdown",
   "metadata": {},
   "source": [
    "## Brojevi"
   ]
  },
  {
   "cell_type": "markdown",
   "metadata": {},
   "source": [
    "Python podržava ove vrste brojeva:\n",
    "- cijele brojeve (_int_, _integer_)"
   ]
  },
  {
   "cell_type": "code",
   "execution_count": 14,
   "metadata": {
    "collapsed": true
   },
   "outputs": [],
   "source": [
    "a = 1"
   ]
  },
  {
   "cell_type": "markdown",
   "metadata": {},
   "source": [
    "- decimalne brojeve (_float_)"
   ]
  },
  {
   "cell_type": "code",
   "execution_count": 15,
   "metadata": {
    "collapsed": false
   },
   "outputs": [],
   "source": [
    "b = 1.0"
   ]
  },
  {
   "cell_type": "markdown",
   "metadata": {},
   "source": [
    "- kompleksne brojeve"
   ]
  },
  {
   "cell_type": "code",
   "execution_count": 16,
   "metadata": {
    "collapsed": true
   },
   "outputs": [],
   "source": [
    "c = 1 + 0J"
   ]
  },
  {
   "cell_type": "markdown",
   "metadata": {},
   "source": [
    "Primjeri operacija nad brojevima:"
   ]
  },
  {
   "cell_type": "code",
   "execution_count": 17,
   "metadata": {
    "collapsed": false
   },
   "outputs": [
    {
     "name": "stdout",
     "output_type": "stream",
     "text": [
      "11\n",
      "3\n",
      "28\n",
      "1.75\n",
      "1.75\n",
      "1.0\n",
      "3\n",
      "2401\n"
     ]
    }
   ],
   "source": [
    "print(7 + 4) # zbrajanje\n",
    "print(7 - 4) # oduzimanje\n",
    "print(7 * 4) # množenje\n",
    "print(7 / 4) # dijeljenje!!!\n",
    "print(7 / 4.) # dijeljenje!!!\n",
    "print(7 // 4.) # dijeljenje!!!\n",
    "print(7 % 4) # ostatak kod dijeljenja\n",
    "print(7 ** 4) # potenciranje"
   ]
  },
  {
   "cell_type": "markdown",
   "metadata": {},
   "source": [
    "Imamo 3 dijeljenja. Ako dijelimo cijeli broj i cijeli broj onda je rezultat dijeljenja isto cijeli broj. Decimalni dio se odbacuje. Ako u rezultatu želimo i decimalni dio, onda jednom od brojeva moramo promijeniti vrstu u _float_. Najlakše je da dodamo samo točku, a može i .0 (primjerice 7 / 4.0 ili 7.0 / 4 ili 7.0 / 4.0). No točka je dovoljna. :) Dvostruki znak dijeljenja koristimo kada će rezultat biti _float_, a mi ne želimo da decimalni dio bude dio rezultata."
   ]
  },
  {
   "cell_type": "markdown",
   "metadata": {},
   "source": [
    "Postoje i razne funkcije za rad s brojevima. Primjerice:"
   ]
  },
  {
   "cell_type": "code",
   "execution_count": 18,
   "metadata": {
    "collapsed": false
   },
   "outputs": [
    {
     "name": "stdout",
     "output_type": "stream",
     "text": [
      "2.6457513110645907\n",
      "3\n",
      "3\n",
      "2\n"
     ]
    }
   ],
   "source": [
    "print(math.sqrt(7)) # korijen\n",
    "print(round(math.sqrt(7))) # zaokruživanje\n",
    "print(math.ceil(math.sqrt(7))) # zaokruživanje naviše\n",
    "print(math.floor(math.sqrt(7))) # zaokruživanje naniže"
   ]
  },
  {
   "cell_type": "markdown",
   "metadata": {},
   "source": [
    "Više o brojevima:  \n",
    "http://www.tutorialspoint.com/python/python_numbers.htm"
   ]
  },
  {
   "cell_type": "markdown",
   "metadata": {},
   "source": [
    "## Zadaća"
   ]
  },
  {
   "cell_type": "markdown",
   "metadata": {},
   "source": [
    "- u varijablu a spremite vrijednost 7\n",
    "- u varijablu b spremite vrijedost 3\n",
    "- u varijablu c spremite vrijedost 5\n",
    "- u varijablu opseg_trokuta spremite opseg trokuta\n",
    "dobiven iz gornje 3 stranice\n",
    "- u varijablu d spremite korijen varijable opseg_trokuta\n",
    "- u varijablu e spremite varijablu d zaokruženu naviše\n",
    "- u varijablu f spremite faktorijel varijable e\n",
    "- u varijablu g spremite varijablu f podijeljenu s brojem 7\n",
    "tako da se sačuva i decimalni dio rezultata\n",
    "- u varijablu h spremite umnožak varijabli g i korijena varijable c\n",
    "- u zadaću dodajte pokoji komentar :)\n",
    "- ako niste, proučite gornje materijale :)"
   ]
  }
 ],
 "metadata": {
  "kernelspec": {
   "display_name": "Python 3",
   "language": "python",
   "name": "python3"
  },
  "language_info": {
   "codemirror_mode": {
    "name": "ipython",
    "version": 3
   },
   "file_extension": ".py",
   "mimetype": "text/x-python",
   "name": "python",
   "nbconvert_exporter": "python",
   "pygments_lexer": "ipython3",
   "version": "3.5.1"
  }
 },
 "nbformat": 4,
 "nbformat_minor": 0
}
